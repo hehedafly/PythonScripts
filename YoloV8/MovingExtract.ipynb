{
 "cells": [
  {
   "cell_type": "code",
   "execution_count": 3,
   "metadata": {},
   "outputs": [],
   "source": [
    "# 导入库\n",
    "import cv2\n",
    "import time\n",
    "from math import*\n",
    "import numpy as np\n",
    "import keyboard\n",
    "\n",
    "KNN_subtractor = cv2.createBackgroundSubtractorKNN(detectShadows = True)\n",
    "\n",
    "MOG2_subtractor = cv2.createBackgroundSubtractorMOG2(detectShadows = True)\n",
    "\n",
    "bg_subtractor=MOG2_subtractor\n",
    "\n",
    "mediaName = \".\\WIN_20240822_15_44_20_Pro.mp4\"\n",
    "camera = cv2.VideoCapture(mediaName)\n",
    "waitMillSec = 17\n",
    "\n",
    "recFrame = 0\n",
    "# tailColor = ()\n",
    "\n",
    "_, fristFrame = camera.read()\n",
    "availableMask = np.ones(fristFrame.shape, dtype= np.uint8)\n",
    "while True:\n",
    "    gROI = cv2.selectROI(\"ROI frame\", fristFrame * availableMask, False)\n",
    "\n",
    "    availableMask[gROI[1]:(gROI[1] + gROI[3]), gROI[0]:(gROI[0] + gROI[2])] = 0\n",
    "\n",
    "    if gROI == (0,0,0,0):\n",
    "        cv2.destroyAllWindows()\n",
    "        break\n",
    "\n"
   ]
  },
  {
   "cell_type": "code",
   "execution_count": 8,
   "metadata": {},
   "outputs": [],
   "source": [
    "cv2.imshow(\"temp\", availableMask * 255)\n",
    "cv2.waitKey()\n",
    "cv2.destroyAllWindows()"
   ]
  },
  {
   "cell_type": "code",
   "execution_count": 10,
   "metadata": {},
   "outputs": [],
   "source": []
  },
  {
   "cell_type": "code",
   "execution_count": 12,
   "metadata": {},
   "outputs": [
    {
     "ename": "KeyboardInterrupt",
     "evalue": "",
     "output_type": "error",
     "traceback": [
      "\u001b[1;31m---------------------------------------------------------------------------\u001b[0m",
      "\u001b[1;31mKeyboardInterrupt\u001b[0m                         Traceback (most recent call last)",
      "Cell \u001b[1;32mIn[12], line 3\u001b[0m\n\u001b[0;32m      1\u001b[0m \u001b[38;5;28;01mwhile\u001b[39;00m \u001b[38;5;28;01mTrue\u001b[39;00m:\n\u001b[0;32m      2\u001b[0m     ret, frame \u001b[38;5;241m=\u001b[39m camera\u001b[38;5;241m.\u001b[39mread()\n\u001b[1;32m----> 3\u001b[0m     frame \u001b[38;5;241m=\u001b[39m \u001b[43mframe\u001b[49m \u001b[38;5;241m*\u001b[39m availableMask\n\u001b[0;32m      5\u001b[0m     \u001b[38;5;66;03m# 每一帧既用于计算前景掩码，也用于更新背景。\u001b[39;00m\n\u001b[0;32m      6\u001b[0m     foreground_mask \u001b[38;5;241m=\u001b[39m bg_subtractor\u001b[38;5;241m.\u001b[39mapply(frame)\n",
      "Cell \u001b[1;32mIn[12], line 3\u001b[0m\n\u001b[0;32m      1\u001b[0m \u001b[38;5;28;01mwhile\u001b[39;00m \u001b[38;5;28;01mTrue\u001b[39;00m:\n\u001b[0;32m      2\u001b[0m     ret, frame \u001b[38;5;241m=\u001b[39m camera\u001b[38;5;241m.\u001b[39mread()\n\u001b[1;32m----> 3\u001b[0m     frame \u001b[38;5;241m=\u001b[39m \u001b[43mframe\u001b[49m \u001b[38;5;241m*\u001b[39m availableMask\n\u001b[0;32m      5\u001b[0m     \u001b[38;5;66;03m# 每一帧既用于计算前景掩码，也用于更新背景。\u001b[39;00m\n\u001b[0;32m      6\u001b[0m     foreground_mask \u001b[38;5;241m=\u001b[39m bg_subtractor\u001b[38;5;241m.\u001b[39mapply(frame)\n",
      "File \u001b[1;32m_pydevd_bundle/pydevd_cython.pyx:1457\u001b[0m, in \u001b[0;36m_pydevd_bundle.pydevd_cython.SafeCallWrapper.__call__\u001b[1;34m()\u001b[0m\n",
      "File \u001b[1;32m_pydevd_bundle/pydevd_cython.pyx:701\u001b[0m, in \u001b[0;36m_pydevd_bundle.pydevd_cython.PyDBFrame.trace_dispatch\u001b[1;34m()\u001b[0m\n",
      "File \u001b[1;32m_pydevd_bundle/pydevd_cython.pyx:1152\u001b[0m, in \u001b[0;36m_pydevd_bundle.pydevd_cython.PyDBFrame.trace_dispatch\u001b[1;34m()\u001b[0m\n",
      "File \u001b[1;32m_pydevd_bundle/pydevd_cython.pyx:1135\u001b[0m, in \u001b[0;36m_pydevd_bundle.pydevd_cython.PyDBFrame.trace_dispatch\u001b[1;34m()\u001b[0m\n",
      "File \u001b[1;32m_pydevd_bundle/pydevd_cython.pyx:312\u001b[0m, in \u001b[0;36m_pydevd_bundle.pydevd_cython.PyDBFrame.do_wait_suspend\u001b[1;34m()\u001b[0m\n",
      "File \u001b[1;32md:\\MiniConda\\envs\\yolov8GPU\\lib\\site-packages\\debugpy\\_vendored\\pydevd\\pydevd.py:2070\u001b[0m, in \u001b[0;36mPyDB.do_wait_suspend\u001b[1;34m(self, thread, frame, event, arg, exception_type)\u001b[0m\n\u001b[0;32m   2067\u001b[0m             from_this_thread\u001b[38;5;241m.\u001b[39mappend(frame_custom_thread_id)\n\u001b[0;32m   2069\u001b[0m     \u001b[38;5;28;01mwith\u001b[39;00m \u001b[38;5;28mself\u001b[39m\u001b[38;5;241m.\u001b[39m_threads_suspended_single_notification\u001b[38;5;241m.\u001b[39mnotify_thread_suspended(thread_id, thread, stop_reason):\n\u001b[1;32m-> 2070\u001b[0m         keep_suspended \u001b[38;5;241m=\u001b[39m \u001b[38;5;28;43mself\u001b[39;49m\u001b[38;5;241;43m.\u001b[39;49m\u001b[43m_do_wait_suspend\u001b[49m\u001b[43m(\u001b[49m\u001b[43mthread\u001b[49m\u001b[43m,\u001b[49m\u001b[43m \u001b[49m\u001b[43mframe\u001b[49m\u001b[43m,\u001b[49m\u001b[43m \u001b[49m\u001b[43mevent\u001b[49m\u001b[43m,\u001b[49m\u001b[43m \u001b[49m\u001b[43marg\u001b[49m\u001b[43m,\u001b[49m\u001b[43m \u001b[49m\u001b[43msuspend_type\u001b[49m\u001b[43m,\u001b[49m\u001b[43m \u001b[49m\u001b[43mfrom_this_thread\u001b[49m\u001b[43m,\u001b[49m\u001b[43m \u001b[49m\u001b[43mframes_tracker\u001b[49m\u001b[43m)\u001b[49m\n\u001b[0;32m   2072\u001b[0m frames_list \u001b[38;5;241m=\u001b[39m \u001b[38;5;28;01mNone\u001b[39;00m\n\u001b[0;32m   2074\u001b[0m \u001b[38;5;28;01mif\u001b[39;00m keep_suspended:\n\u001b[0;32m   2075\u001b[0m     \u001b[38;5;66;03m# This means that we should pause again after a set next statement.\u001b[39;00m\n",
      "File \u001b[1;32md:\\MiniConda\\envs\\yolov8GPU\\lib\\site-packages\\debugpy\\_vendored\\pydevd\\pydevd.py:2106\u001b[0m, in \u001b[0;36mPyDB._do_wait_suspend\u001b[1;34m(self, thread, frame, event, arg, suspend_type, from_this_thread, frames_tracker)\u001b[0m\n\u001b[0;32m   2103\u001b[0m         \u001b[38;5;28mself\u001b[39m\u001b[38;5;241m.\u001b[39m_call_input_hook()\n\u001b[0;32m   2105\u001b[0m     \u001b[38;5;28mself\u001b[39m\u001b[38;5;241m.\u001b[39mprocess_internal_commands()\n\u001b[1;32m-> 2106\u001b[0m     \u001b[43mtime\u001b[49m\u001b[38;5;241;43m.\u001b[39;49m\u001b[43msleep\u001b[49m\u001b[43m(\u001b[49m\u001b[38;5;241;43m0.01\u001b[39;49m\u001b[43m)\u001b[49m\n\u001b[0;32m   2108\u001b[0m \u001b[38;5;28mself\u001b[39m\u001b[38;5;241m.\u001b[39mcancel_async_evaluation(get_current_thread_id(thread), \u001b[38;5;28mstr\u001b[39m(\u001b[38;5;28mid\u001b[39m(frame)))\n\u001b[0;32m   2110\u001b[0m \u001b[38;5;66;03m# process any stepping instructions\u001b[39;00m\n",
      "\u001b[1;31mKeyboardInterrupt\u001b[0m: "
     ]
    }
   ],
   "source": [
    "while True:\n",
    "    ret, frame = camera.read()\n",
    "    frame = frame * availableMask\n",
    "\n",
    "    # 每一帧既用于计算前景掩码，也用于更新背景。\n",
    "    foreground_mask = bg_subtractor.apply(frame)\n",
    "\n",
    "    # 如果大于240像素，则阈值设为255，如果小于则设为0    # 创建二值图像，它只包含白色和黑色像素\n",
    "    ret , threshold = cv2.threshold(foreground_mask.copy(), 120, 255, cv2.THRESH_BINARY)\n",
    "\n",
    "    # 膨胀扩展或加厚图像中的兴趣区域。\n",
    "    threshold = cv2.medianBlur(threshold, 7)\n",
    "    dilated = cv2.dilate(threshold, cv2.getStructuringElement(cv2.MORPH_ELLIPSE, (3,3)), iterations = 4)\n",
    "\n",
    "    # 查找轮廓\n",
    "    contours, hier = cv2.findContours(dilated, cv2.RETR_EXTERNAL, cv2.CHAIN_APPROX_SIMPLE)\n",
    "\n",
    "    # 检查每个轮廓是否超过某个值，如果超过则绘制边界框\n",
    "    for contour in contours:\n",
    "        tempArea = cv2.contourArea(contour)\n",
    "        if tempArea > 5000 and tempArea < 15000:\n",
    "            (x,y,w,h) = cv2.boundingRect(contour)\n",
    "            if recFrame % 10 == 0:\n",
    "                cv2.imwrite(\"Output\" + str(time.strftime(\"%m%d%H%M%S\", time.gmtime()))+\"/\"+ mediaName +\"ROI\"+str(int(recFrame / 10))+\".jpg\", frame[y:y+h, x:x+w])\n",
    "            cv2.rectangle(frame, (x,y), (x+w, y+h), (255,255,0), 2)\n",
    "            print(tempArea)\n",
    "            \n",
    "            recFrame+=1\n",
    "            break\n",
    "\n",
    "    else:\n",
    "        continue\n",
    "    \n",
    "\n",
    "    cv2.imshow(\"Subtractor\", foreground_mask)\n",
    "    cv2.imshow(\"threshold\", threshold)\n",
    "    cv2.imshow(\"detection\", frame)\n",
    "    key = cv2.waitKey(waitMillSec) & 0xff\n",
    "    if key != 255:\n",
    "        if key == 27:\n",
    "            break\n",
    "        elif key == 32:\n",
    "            cv2.waitKey()\n",
    "        # elif key == \n",
    "        # elif key == 0:\n",
    "        #     waitMillSec = 2\n",
    "        #     pass\n",
    "        # else:\n",
    "        #     waitMillSec = 17\n",
    "        # print(\"key press\")\n",
    "    \n",
    "    # elif key == 120 or key == 88:\n",
    "    #     gROI = cv2.selectROI(\"ROI frame\", frame, False)\n",
    "    #     ROI = frame[gROI[1]:(gROI[1] + gROI[3]), gROI[0]:(gROI[0] + gROI[2])]\n",
    "\n",
    "    #     cv2.waitKey()\n",
    "camera.release()\n",
    "cv2.destroyAllWindows()"
   ]
  }
 ],
 "metadata": {
  "kernelspec": {
   "display_name": "yolov8GPU",
   "language": "python",
   "name": "python3"
  },
  "language_info": {
   "codemirror_mode": {
    "name": "ipython",
    "version": 3
   },
   "file_extension": ".py",
   "mimetype": "text/x-python",
   "name": "python",
   "nbconvert_exporter": "python",
   "pygments_lexer": "ipython3",
   "version": "3.9.19"
  }
 },
 "nbformat": 4,
 "nbformat_minor": 2
}
